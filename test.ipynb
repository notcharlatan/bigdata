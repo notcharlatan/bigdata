{
 "cells": [
  {
   "cell_type": "code",
   "execution_count": 2,
   "metadata": {},
   "outputs": [
    {
     "data": {
      "text/plain": [
       "array([2. , 0.1, 1. ])"
      ]
     },
     "execution_count": 2,
     "metadata": {},
     "output_type": "execute_result"
    }
   ],
   "source": [
    "import numpy as np\n",
    "import matplotlib.pyplot as plt\n",
    "\n",
    "group = np.array([[1.0, 2.0], [1.2, 0.1], [0.1, 1.4], [0.3, 3.5], [1.1, 1.0], [0.5, 1.5]])\n",
    "labels = np.array(['A', 'A', 'B', 'B', 'A', 'B'])\n",
    "group[labels == 'A', 1] # A"
   ]
  },
  {
   "cell_type": "code",
   "execution_count": 3,
   "metadata": {},
   "outputs": [
    {
     "data": {
      "text/plain": [
       "array([2. , 0.1, 1. ])"
      ]
     },
     "execution_count": 3,
     "metadata": {},
     "output_type": "execute_result"
    }
   ],
   "source": [
    "group[labels == 'A', 1] "
   ]
  },
  {
   "cell_type": "code",
   "execution_count": 50,
   "metadata": {},
   "outputs": [
    {
     "data": {
      "text/plain": [
       "<matplotlib.collections.PathCollection at 0x142a64fd0>"
      ]
     },
     "execution_count": 50,
     "metadata": {},
     "output_type": "execute_result"
    },
    {
     "data": {
      "image/png": "[encoded data removed]",
      "text/plain": [
       "<Figure size 640x480 with 1 Axes>"
      ]
     },
     "metadata": {},
     "output_type": "display_data"
    }
   ],
   "source": [
    "plt.scatter(group[labels == 'A', 0], group[labels == 'A', 1], color='r', marker='*')\n",
    "plt.scatter(group[labels == 'B', 0], group[labels == 'B', 1], color='g', marker='+')\n",
    "plt.scatter(1.0, 2.1, color='b', marker='o')\n",
    "plt.scatter(0.4, 2.0, color='b', marker='o')\n"
   ]
  },
  {
   "cell_type": "code",
   "execution_count": 7,
   "metadata": {},
   "outputs": [
    {
     "data": {
      "text/plain": [
       "2"
      ]
     },
     "execution_count": 7,
     "metadata": {},
     "output_type": "execute_result"
    }
   ],
   "source": [
    "num_test = np.array([[1.0, 2.1], [0.4, 2.0]]).shape[0]\n",
    "num_test\n"
   ]
  },
  {
   "cell_type": "code",
   "execution_count": 78,
   "metadata": {},
   "outputs": [
    {
     "name": "stdout",
     "output_type": "stream",
     "text": [
      "x_test_temp生成的x测试数据 [[1.  2.1]\n",
      " [1.  2.1]\n",
      " [1.  2.1]\n",
      " [1.  2.1]\n",
      " [1.  2.1]\n",
      " [1.  2.1]]\n",
      "result_temp差的平方 [[0.   0.01]\n",
      " [0.04 4.  ]\n",
      " [0.81 0.49]\n",
      " [0.49 1.96]\n",
      " [0.01 1.21]\n",
      " [0.25 0.36]]\n",
      "result_temp求和 [[0.   0.01]\n",
      " [0.04 4.  ]\n",
      " [0.81 0.49]\n",
      " [0.49 1.96]\n",
      " [0.01 1.21]\n",
      " [0.25 0.36]]\n",
      "nearest_k [0 5 4 2 3 1]\n",
      "top_k [0]\n",
      "x_test_temp生成的x测试数据 [[0.4 2. ]\n",
      " [0.4 2. ]\n",
      " [0.4 2. ]\n",
      " [0.4 2. ]\n",
      " [0.4 2. ]\n",
      " [0.4 2. ]]\n",
      "result_temp差的平方 [[0.36 0.  ]\n",
      " [0.64 3.61]\n",
      " [0.09 0.36]\n",
      " [0.01 2.25]\n",
      " [0.49 1.  ]\n",
      " [0.01 0.25]]\n",
      "result_temp求和 [[0.36 0.  ]\n",
      " [0.64 3.61]\n",
      " [0.09 0.36]\n",
      " [0.01 2.25]\n",
      " [0.49 1.  ]\n",
      " [0.01 0.25]]\n",
      "nearest_k [5 0 2 4 3 1]\n",
      "top_k [5]\n"
     ]
    }
   ],
   "source": [
    "import operator\n",
    "x_train = group\n",
    "y_train = labels\n",
    "x_test = np.array([[1.0, 2.1], [0.4, 2.0]])\n",
    "label_list = []\n",
    "for i in range(num_test):\n",
    "    # 将测试数据复制为多份,方便直接利用矩阵进行快速计算\n",
    "    x_test_temp = np.tile(x_test[i], (x_train.shape[0], 1))\n",
    "    print('x_test_temp生成的x测试数据',x_test_temp)\n",
    "    \n",
    "    result_temp = (x_train - x_test_temp) ** 2\n",
    "    # axis=1 计算的是行的和，结果以列展示\\\n",
    "    print('result_temp差的平方',result_temp)\n",
    "    \n",
    "    result_sum_temp = result_temp.sum(axis=1)\n",
    "    print('result_temp求和',result_temp)\n",
    "    # 最后再求平方根\n",
    "    distances = np.sqrt(result_sum_temp)\n",
    "    \n",
    "    '''argsort选取距离最小的k个点'''\n",
    "    \n",
    "    nearest_k = distances.argsort()\n",
    "    print('nearest_k',nearest_k)\n",
    "    top_k = nearest_k[:1]\n",
    "    print('top_k',top_k)\n",
    "    class_count = {}\n",
    "    for index in top_k:\n",
    "        class_count[y_train[index]] = class_count.get(y_train[index], 0) + 1\n",
    "        \n",
    "    sorted_class_count = sorted(class_count.items(), key=operator.itemgetter(1), reverse=True)\n",
    "    label_list.append(sorted_class_count[0][0])\n"
   ]
  },
  {
   "cell_type": "code",
   "execution_count": 79,
   "metadata": {},
   "outputs": [
    {
     "data": {
      "text/plain": [
       "[np.str_('A'), np.str_('B')]"
      ]
     },
     "execution_count": 79,
     "metadata": {},
     "output_type": "execute_result"
    }
   ],
   "source": [
    "label_list"
   ]
  },
  {
   "cell_type": "code",
   "execution_count": null,
   "metadata": {},
   "outputs": [],
   "source": []
  }
 ],
 "metadata": {
  "kernelspec": {
   "display_name": "py39",
   "language": "python",
   "name": "python3"
  },
  "language_info": {
   "codemirror_mode": {
    "name": "ipython",
    "version": 3
   },
   "file_extension": ".py",
   "mimetype": "text/x-python",
   "name": "python",
   "nbconvert_exporter": "python",
   "pygments_lexer": "ipython3",
   "version": "3.12.3"
  }
 },
 "nbformat": 4,
 "nbformat_minor": 2
}
